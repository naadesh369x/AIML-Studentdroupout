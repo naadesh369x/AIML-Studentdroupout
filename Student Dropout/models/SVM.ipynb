{
  "nbformat": 4,
  "nbformat_minor": 0,
  "metadata": {
    "colab": {
      "provenance": [],
      "gpuType": "V5E1"
    },
    "kernelspec": {
      "name": "python3",
      "display_name": "Python 3"
    },
    "language_info": {
      "name": "python"
    },
    "accelerator": "TPU"
  },
  "cells": [
    {
      "cell_type": "code",
      "execution_count": 1,
      "metadata": {
        "id": "PgDqO30YdyyB",
        "colab": {
          "base_uri": "https://localhost:8080/"
        },
        "outputId": "124fdcfd-6f0a-4af9-b307-4d9bbcaec676"
      },
      "outputs": [
        {
          "output_type": "stream",
          "name": "stdout",
          "text": [
            "Mounted at /content/drive\n",
            "Loaded final preprocessed dataset: (6295, 11)\n"
          ]
        }
      ],
      "source": [
        "\n",
        "# STEP 1: import libries and dataset\n",
        "\n",
        "\n",
        "import pandas as pd\n",
        "import numpy as np\n",
        "import matplotlib.pyplot as plt\n",
        "import seaborn as sns\n",
        "from google.colab import drive\n",
        "import os\n",
        "\n",
        "# Mount Google Drive\n",
        "drive.mount('/content/drive')\n",
        "\n",
        "# Load Final Preprocessed Dataset\n",
        "final_path = '/content/drive/My Drive/results/final_preprocessed_dataset.csv'\n",
        "final_df = pd.read_csv(final_path)\n",
        "print(\"Loaded final preprocessed dataset:\", final_df.shape)\n"
      ]
    },
    {
      "cell_type": "code",
      "source": [
        "\n",
        "# STEP 2: Split Dataset into Train and Test\n",
        "\n",
        "from sklearn.model_selection import train_test_split\n",
        "# Separate Features (X) and Target (y)\n",
        "\n",
        "X = final_df.drop(columns=[\"Target\"])   # All independent variables\n",
        "y = final_df[\"Target\"]                  # Dependent variable (Target: Dropout / Graduate / Enrolled)\n",
        "\n",
        "# 80% Training Data & 20% Testing Data\n",
        "X_train, X_test, y_train, y_test = train_test_split(\n",
        "    X, y,\n",
        "    test_size=0.2,          # 20% for testing\n",
        "    random_state=42,\n",
        "    stratify=y\n",
        ")\n",
        "# Display Dataset Shapes\n",
        "\n",
        "print(\"Dataset successfully split!\")\n",
        "print(\"• Training Set Shape :\", X_train.shape)\n",
        "print(\"• Testing Set Shape  :\", X_test.shape)\n",
        "\n",
        "# show class balance before and after split\n",
        "print(\"\\nClass Distribution in Training Set:\")\n",
        "print(y_train.value_counts())\n",
        "\n",
        "print(\"\\nClass Distribution in Testing Set:\")\n",
        "print(y_test.value_counts())"
      ],
      "metadata": {
        "id": "VhrMxm9TzZFs",
        "colab": {
          "base_uri": "https://localhost:8080/"
        },
        "outputId": "5e210ef6-c53e-45e7-fb0d-26a21ff1d9da"
      },
      "execution_count": 10,
      "outputs": [
        {
          "output_type": "stream",
          "name": "stdout",
          "text": [
            "✅ Dataset successfully split!\n",
            "• Training Set Shape : (5036, 10)\n",
            "• Testing Set Shape  : (1259, 10)\n",
            "\n",
            "Class Distribution in Training Set:\n",
            "Target\n",
            "1    1724\n",
            "2    1668\n",
            "0    1644\n",
            "Name: count, dtype: int64\n",
            "\n",
            "Class Distribution in Testing Set:\n",
            "Target\n",
            "1    431\n",
            "2    417\n",
            "0    411\n",
            "Name: count, dtype: int64\n"
          ]
        }
      ]
    },
    {
      "cell_type": "code",
      "source": [
        "\n",
        "# STEP 3: Define Base SVM Model & Hyperparameter Grid\n",
        "\n",
        "from sklearn.svm import SVC\n",
        "\n",
        "# SVM = Support Vector Machine — a strong classifier for nonlinear and high-dimensional data.\n",
        "svm_model = SVC(random_state=42)\n",
        "# Define Hyperparameter Grid for Optimization\n",
        "param_grid = {\n",
        "    'C': [0.1, 1, 10],\n",
        "    'kernel': ['linear', 'rbf', 'poly'],\n",
        "    'gamma': ['scale', 'auto']\n",
        "}\n",
        "# Display Parameter Grid\n",
        "print(\"Base SVM Model and Hyperparameter Grid defined successfully.\")\n",
        "print(\"\\nHyperparameter Grid:\")\n",
        "for param, values in param_grid.items():\n",
        "    print(f\"• {param} : {values}\")\n"
      ],
      "metadata": {
        "id": "R5t0YRQgvO43",
        "colab": {
          "base_uri": "https://localhost:8080/"
        },
        "outputId": "7a9b998e-0c3f-4f50-c927-1e2a243641b6"
      },
      "execution_count": 17,
      "outputs": [
        {
          "output_type": "stream",
          "name": "stdout",
          "text": [
            "Base SVM Model and Hyperparameter Grid defined successfully.\n",
            "\n",
            "Hyperparameter Grid:\n",
            "• C : [0.1, 1, 10]\n",
            "• kernel : ['linear', 'rbf', 'poly']\n",
            "• gamma : ['scale', 'auto']\n"
          ]
        }
      ]
    },
    {
      "cell_type": "code",
      "source": [
        "\n",
        "# STEP 4 : Perform GridSearchCV for Hyperparameter Tuning\n",
        "\n",
        "from sklearn.model_selection import GridSearchCV\n",
        "\n",
        "grid_search = GridSearchCV(\n",
        "    estimator=svm_model,\n",
        "    param_grid=param_grid,\n",
        "    scoring='accuracy',\n",
        "    cv=5,\n",
        "    n_jobs=-1,\n",
        "    verbose=2\n",
        ")\n",
        "\n",
        "grid_search.fit(X_train, y_train)\n",
        "print(\"\\nBest Parameters Found:\", grid_search.best_params_)\n"
      ],
      "metadata": {
        "colab": {
          "base_uri": "https://localhost:8080/"
        },
        "id": "oJmQjvh_vSp_",
        "outputId": "b8995602-ed25-49d8-dc1d-271c54658a13"
      },
      "execution_count": 18,
      "outputs": [
        {
          "output_type": "stream",
          "name": "stdout",
          "text": [
            "Fitting 5 folds for each of 18 candidates, totalling 90 fits\n",
            "\n",
            "Best Parameters Found: {'C': 10, 'gamma': 'auto', 'kernel': 'rbf'}\n"
          ]
        }
      ]
    },
    {
      "cell_type": "code",
      "source": [
        "\n",
        "# STEP 5: Evaluate the Best SVM Model\n",
        "\n",
        "from sklearn.metrics import accuracy_score, classification_report, confusion_matrix\n",
        "import pandas as pd\n",
        "best_svm = grid_search.best_estimator_\n",
        "\n",
        "# Predict on Test Data-\n",
        "y_pred = best_svm.predict(X_test)\n",
        "accuracy = accuracy_score(y_test, y_pred)\n",
        "\n",
        "# Map numeric target values to readable labels\n",
        "class_labels = ['Dropout', 'Graduate', 'Enrolled']\n",
        "# If target is numeric, map to class names\n",
        "if y_test.dtype != 'O':\n",
        "    y_test_named = y_test.map({0: 'Dropout', 1: 'Graduate', 2: 'Enrolled'})\n",
        "    y_pred_named = pd.Series(y_pred).map({0: 'Dropout', 1: 'Graduate', 2: 'Enrolled'})\n",
        "else:\n",
        "    y_test_named = y_test\n",
        "    y_pred_named = pd.Series(y_pred)\n",
        "print(\"\\Test Accuracy:\", round(accuracy, 4))\n",
        "\n",
        "# Print Classification Report\n",
        "\n",
        "print(\"\\nClassification Report:\")\n",
        "print(classification_report(y_test_named, y_pred_named, target_names=class_labels))\n",
        "\n",
        "\n",
        "\n"
      ],
      "metadata": {
        "id": "qquv1Y6MvTlO",
        "colab": {
          "base_uri": "https://localhost:8080/"
        },
        "outputId": "c29b58fe-1534-4cd0-9355-5812e7661bd0"
      },
      "execution_count": 33,
      "outputs": [
        {
          "output_type": "stream",
          "name": "stdout",
          "text": [
            "\\Test Accuracy: 0.7681\n",
            "\n",
            "Classification Report:\n",
            "              precision    recall  f1-score   support\n",
            "\n",
            "     Dropout       0.82      0.72      0.76       411\n",
            "    Graduate       0.79      0.84      0.81       417\n",
            "    Enrolled       0.70      0.75      0.73       431\n",
            "\n",
            "    accuracy                           0.77      1259\n",
            "   macro avg       0.77      0.77      0.77      1259\n",
            "weighted avg       0.77      0.77      0.77      1259\n",
            "\n"
          ]
        },
        {
          "output_type": "stream",
          "name": "stderr",
          "text": [
            "<>:20: SyntaxWarning: invalid escape sequence '\\T'\n",
            "<>:20: SyntaxWarning: invalid escape sequence '\\T'\n",
            "/tmp/ipython-input-3360663244.py:20: SyntaxWarning: invalid escape sequence '\\T'\n",
            "  print(\"\\Test Accuracy:\", round(accuracy, 4))\n"
          ]
        }
      ]
    },
    {
      "cell_type": "code",
      "source": [
        "# STEP 6: Confusion Matrix Visualization\n",
        "\n",
        "# Define class labels\n",
        "class_labels = ['Dropout', 'Graduate', 'Enrolled']\n",
        "# Compute confusion matrix\n",
        "cm = confusion_matrix(y_test, y_pred)\n",
        "# Plot confusion matrix heatmap\n",
        "plt.figure(figsize=(6,5))\n",
        "sns.heatmap(\n",
        "    cm,\n",
        "    annot=True,\n",
        "    fmt='d',\n",
        "    cmap='Blues',\n",
        "    xticklabels=class_labels,\n",
        "    yticklabels=class_labels\n",
        ")\n",
        "plt.title('Confusion Matrix - SVM Model')\n",
        "plt.xlabel('Predicted Class')\n",
        "plt.ylabel('Actual Class')\n",
        "plt.tight_layout()\n",
        "# Create results folder if it doesn't exist\n",
        "os.makedirs('/content/drive/My Drive/results/', exist_ok=True)\n",
        "# Save figure as PNG\n",
        "plt.savefig('/content/drive/My Drive/results/svm_confusion_matrix_named.png', bbox_inches='tight')\n",
        "plt.show()\n"
      ],
      "metadata": {
        "id": "8vaw9qHfveXy",
        "colab": {
          "base_uri": "https://localhost:8080/",
          "height": 507
        },
        "outputId": "0a8ea987-f010-44e0-8c87-d82ccc390235"
      },
      "execution_count": 23,
      "outputs": [
        {
          "output_type": "display_data",
          "data": {
            "text/plain": [
              "<Figure size 600x500 with 2 Axes>"
            ],
            "image/png": "[encoded data removed]"
          },
          "metadata": {}
        }
      ]
    },
    {
      "cell_type": "code",
      "source": [
        "\n",
        "# STEP 7: Save model perfermonce\n",
        "\n",
        "from sklearn.model_selection import cross_val_score\n",
        "\n",
        "# Calculate cross-validation scores\n",
        "cv_scores = cross_val_score(grid_search.best_estimator_, X_train, y_train, cv=5, scoring='accuracy')\n",
        "\n",
        "results_summary = {\n",
        "    \"Best Parameters\": [grid_search.best_params_],\n",
        "    \"Test Accuracy\": [accuracy],\n",
        "    \"CV Mean Accuracy\": [cv_scores.mean()],\n",
        "    \"CV Std Dev\": [cv_scores.std()]\n",
        "}\n",
        "\n",
        "results_df = pd.DataFrame(results_summary)\n",
        "results_df.to_csv('/content/drive/My Drive/results/svm_results_summary.csv', index=False)\n",
        "print(\"\\nSVM results saved to: /content/drive/My Drive/results/svm_results_summary.csv\")"
      ],
      "metadata": {
        "id": "st6Ke8POvmf9",
        "colab": {
          "base_uri": "https://localhost:8080/"
        },
        "outputId": "3178c5e6-4670-45ca-ecc4-d341032c7dfb"
      },
      "execution_count": 34,
      "outputs": [
        {
          "output_type": "stream",
          "name": "stdout",
          "text": [
            "\n",
            "SVM results saved to: /content/drive/My Drive/results/svm_results_summary.csv\n"
          ]
        }
      ]
    },
    {
      "cell_type": "code",
      "source": [
        "\n",
        "# Predicted vs Actual Class Distribution\n",
        "\n",
        "\n",
        "plt.figure(figsize=(6,4))\n",
        "sns.countplot(x=y_test_named, hue=y_pred_named, palette='coolwarm')\n",
        "plt.title('Predicted vs Actual Class Distribution')\n",
        "plt.xlabel('Actual Class')\n",
        "plt.ylabel('Count')\n",
        "plt.legend(title='Predicted')\n",
        "plt.tight_layout()\n",
        "plt.savefig('/content/drive/My Drive/results/svm_pred_vs_actual_named.png', bbox_inches='tight')\n",
        "plt.show()\n"
      ],
      "metadata": {
        "colab": {
          "base_uri": "https://localhost:8080/",
          "height": 407
        },
        "id": "VZ5g_2oeI1lW",
        "outputId": "39b5ba09-eb30-44bd-8d7f-3af8e5fcd58b"
      },
      "execution_count": 35,
      "outputs": [
        {
          "output_type": "display_data",
          "data": {
            "text/plain": [
              "<Figure size 600x400 with 1 Axes>"
            ],
            "image/png": "[encoded data removed]"
          },
          "metadata": {}
        }
      ]
    }
  ]
}