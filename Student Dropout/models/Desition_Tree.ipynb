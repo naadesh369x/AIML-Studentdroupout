{
  "nbformat": 4,
  "nbformat_minor": 0,
  "metadata": {
    "colab": {
      "provenance": []
    },
    "kernelspec": {
      "name": "python3",
      "display_name": "Python 3"
    },
    "language_info": {
      "name": "python"
    }
  },
  "cells": [
    {
      "cell_type": "code",
      "execution_count": 25,
      "metadata": {
        "colab": {
          "base_uri": "https://localhost:8080/"
        },
        "id": "tmezgzwH7liW",
        "outputId": "3f264af9-9ba6-4b98-9644-74eb2499b63e"
      },
      "outputs": [
        {
          "output_type": "stream",
          "name": "stdout",
          "text": [
            "Drive already mounted at /content/drive; to attempt to forcibly remount, call drive.mount(\"/content/drive\", force_remount=True).\n"
          ]
        }
      ],
      "source": [
        "# IT24101966\n",
        "\n",
        "# Import libraries\n",
        "import pandas as pd\n",
        "import numpy as np\n",
        "import os\n",
        "from google.colab import drive\n",
        "from google.colab import files\n",
        "from sklearn.model_selection import train_test_split, GridSearchCV, cross_val_score, StratifiedKFold\n",
        "from sklearn.tree import DecisionTreeClassifier\n",
        "from sklearn.metrics import accuracy_score, classification_report, confusion_matrix, f1_score, precision_score, recall_score\n",
        "import joblib\n",
        "import warnings\n",
        "\n",
        "# Mount google drive\n",
        "drive.mount('/content/drive')\n",
        "\n",
        "# Set folders to save results\n",
        "results_path = '/content/drive/My Drive/results/'\n",
        "model_path = results_path + 'models/'\n",
        "vis_path = results_path + 'dt_visualizations/'"
      ]
    },
    {
      "cell_type": "code",
      "source": [
        "# Load dataset\n",
        "final_path = results_path + \"final_preprocessed_dataset.csv\"\n",
        "df = pd.read_csv(final_path)\n",
        "\n",
        "# Split into features and target\n",
        "X = df.drop(columns=[\"Target\"])\n",
        "y = df[\"Target\"]\n",
        "\n",
        "# Split into training and testing sets\n",
        "X_train, X_test, y_train, y_test = train_test_split(\n",
        "    X, y, test_size=0.2, random_state=42, stratify=y\n",
        ")\n",
        "\n",
        "print(\"Training shape:\", X_train.shape)\n",
        "print(\"Testing shape:\", X_test.shape)\n"
      ],
      "metadata": {
        "colab": {
          "base_uri": "https://localhost:8080/"
        },
        "id": "KUnE2Ro-_glu",
        "outputId": "5f6f7abc-e570-4b07-f3ea-7934bcd5643b"
      },
      "execution_count": 26,
      "outputs": [
        {
          "output_type": "stream",
          "name": "stdout",
          "text": [
            "Training shape: (5036, 10)\n",
            "Testing shape: (1259, 10)\n"
          ]
        }
      ]
    },
    {
      "cell_type": "code",
      "source": [
        "# Set up decision tree and parameters\n",
        "\n",
        "# Create decision tree model\n",
        "dt = DecisionTreeClassifier(random_state=42)\n",
        "\n",
        "# Define the hyperparameters\n",
        "param_grid = {\n",
        "'criterion': ['gini', 'entropy'],      # Split quality\n",
        "'max_depth': [None, 5, 10, 15],        # Max tree depth\n",
        "'min_samples_split': [2, 5, 10],       # Min samples to split\n",
        "'min_samples_leaf': [1, 2, 4]          # Min samples per leaf\n",
        "}"
      ],
      "metadata": {
        "id": "TNm4w0Oj_jOs"
      },
      "execution_count": 27,
      "outputs": []
    },
    {
      "cell_type": "code",
      "source": [
        "\n",
        "# Hyperparameter tuning using grid search\n",
        "\n",
        "\n",
        "# Set up 5-fold cross validation\n",
        "cv = StratifiedKFold(n_splits=5, shuffle=True, random_state=42)\n",
        "\n",
        "# Set up grid search to find the best hyperparameters\n",
        "grid_search = GridSearchCV(\n",
        "    estimator=dt,\n",
        "    param_grid=param_grid,\n",
        "    scoring='accuracy',\n",
        "    cv=cv,\n",
        "    n_jobs=-1,\n",
        "    verbose=1\n",
        ")\n",
        "\n",
        "# Fit gridSearch on training data\n",
        "grid_search.fit(X_train, y_train)\n",
        "\n",
        "# Get the best model and its parameters\n",
        "best_model = grid_search.best_estimator_\n",
        "best_params = grid_search.best_params_\n",
        "\n",
        "print(f\"Best Cross-Validation Accuracy: {grid_search.best_score_:.4f}\")"
      ],
      "metadata": {
        "colab": {
          "base_uri": "https://localhost:8080/"
        },
        "id": "ICd9303X_kzN",
        "outputId": "a8dc70fc-2913-46b4-f0b5-1ecdac246cbf"
      },
      "execution_count": 28,
      "outputs": [
        {
          "output_type": "stream",
          "name": "stdout",
          "text": [
            "Fitting 5 folds for each of 72 candidates, totalling 360 fits\n",
            "Best Cross-Validation Accuracy: 0.7208\n"
          ]
        }
      ]
    },
    {
      "cell_type": "code",
      "source": [
        "\n",
        "#  test model on the test data set\n",
        "y_pred = best_model.predict(X_test)\n",
        "\n",
        "# Calculate performance metrics\n",
        "accuracy = accuracy_score(y_test, y_pred)\n",
        "precision = precision_score(y_test, y_pred, average='weighted')\n",
        "recall = recall_score(y_test, y_pred, average='weighted')\n",
        "f1 = f1_score(y_test, y_pred, average='weighted')\n",
        "\n",
        "# Print results\n",
        "print(f\" Test Accuracy: {accuracy:.4f}\")\n",
        "print(f\"Precision: {precision:.4f}, Recall: {recall:.4f}, F1 Score: {f1:.4f}\")\n",
        "\n",
        "# Show detailed classification report\n",
        "print(\"Classification Report:\")\n",
        "print(classification_report(\n",
        "    y_test,\n",
        "    y_pred,\n",
        "    target_names=['Dropout', 'Enrolled', 'Graduate']\n",
        "))\n"
      ],
      "metadata": {
        "colab": {
          "base_uri": "https://localhost:8080/"
        },
        "id": "_h5i8ShT_nEd",
        "outputId": "3b99f73d-913a-46e9-952c-35b60684b487"
      },
      "execution_count": 29,
      "outputs": [
        {
          "output_type": "stream",
          "name": "stdout",
          "text": [
            " Test Accuracy: 0.7292\n",
            "Precision: 0.7375, Recall: 0.7292, F1 Score: 0.7309\n",
            "Classification Report:\n",
            "              precision    recall  f1-score   support\n",
            "\n",
            "     Dropout       0.77      0.69      0.73       411\n",
            "    Enrolled       0.64      0.74      0.69       431\n",
            "    Graduate       0.81      0.75      0.78       417\n",
            "\n",
            "    accuracy                           0.73      1259\n",
            "   macro avg       0.74      0.73      0.73      1259\n",
            "weighted avg       0.74      0.73      0.73      1259\n",
            "\n"
          ]
        }
      ]
    },
    {
      "cell_type": "code",
      "source": [
        "# confusion matrix\n",
        "\n",
        "import matplotlib.pyplot as plt\n",
        "import seaborn as sns\n",
        "from sklearn.metrics import confusion_matrix\n",
        "\n",
        "# Create confusion matrix\n",
        "cm = confusion_matrix(y_test, y_pred)\n",
        "\n",
        "# Plot the confusion matrix\n",
        "plt.figure(figsize=(6,5))\n",
        "sns.heatmap(\n",
        "    cm,\n",
        "    annot=True,\n",
        "    fmt='d',\n",
        "    cmap='Greens',\n",
        "    xticklabels=['Dropout', 'Enrolled', 'Graduate'],\n",
        "    yticklabels=['Dropout', 'Enrolled', 'Graduate']\n",
        ")\n",
        "plt.title('Decision Tree - Confusion Matrix')\n",
        "plt.xlabel('Predicted')\n",
        "plt.ylabel('Actual')\n"
      ],
      "metadata": {
        "colab": {
          "base_uri": "https://localhost:8080/",
          "height": 504
        },
        "id": "av_Jmivw_8Bs",
        "outputId": "7dbf8b44-3079-429d-c4a4-1bcc97c01aa7"
      },
      "execution_count": 30,
      "outputs": [
        {
          "output_type": "execute_result",
          "data": {
            "text/plain": [
              "Text(45.722222222222214, 0.5, 'Actual')"
            ]
          },
          "metadata": {},
          "execution_count": 30
        },
        {
          "output_type": "display_data",
          "data": {
            "text/plain": [
              "<Figure size 600x500 with 2 Axes>"
            ],
            "image/png": "[encoded data removed]"
          },
          "metadata": {}
        }
      ]
    },
    {
      "cell_type": "code",
      "source": [
        "\n",
        "# Compare different decision tree variations\n",
        "\n",
        "\n",
        "# Define three decision Tree versions\n",
        "models = {\n",
        "    \"Default (gini, full depth)\": DecisionTreeClassifier(criterion='gini', random_state=42),\n",
        "    \"Limited depth (entropy, depth=5)\": DecisionTreeClassifier(criterion='entropy', max_depth=5, random_state=42),\n",
        "    \"Pruned (gini, leaf=4)\": DecisionTreeClassifier(criterion='gini', min_samples_leaf=4, random_state=42)\n",
        "}\n",
        "\n",
        "# Store results\n",
        "results = []\n",
        "\n",
        "# Train and evaluate each model\n",
        "for name, model in models.items():\n",
        "    model.fit(X_train, y_train)\n",
        "    y_pred_var = model.predict(X_test)\n",
        "    acc = accuracy_score(y_test, y_pred_var)\n",
        "    f1s = f1_score(y_test, y_pred_var, average='weighted')\n",
        "    results.append([name, acc, f1s])\n",
        "\n",
        "# Show comparison in a data frame\n",
        "comparison = pd.DataFrame(results, columns=['Model', 'Accuracy', 'F1 Score'])\n",
        "print(comparison)\n"
      ],
      "metadata": {
        "colab": {
          "base_uri": "https://localhost:8080/"
        },
        "id": "I7piQFGV_-Tz",
        "outputId": "50d5c9f6-4447-4dea-93fc-969eefa5cbc3"
      },
      "execution_count": 33,
      "outputs": [
        {
          "output_type": "stream",
          "name": "stdout",
          "text": [
            "                              Model  Accuracy  F1 Score\n",
            "0        Default (gini, full depth)  0.719619  0.719663\n",
            "1  Limited depth (entropy, depth=5)  0.722796  0.725032\n",
            "2             Pruned (gini, leaf=4)  0.728356  0.728778\n"
          ]
        }
      ]
    },
    {
      "cell_type": "code",
      "source": [
        "# Cross validation and Save Model\n",
        "\n",
        "# Perform 5 fold cross validation on the full dataset\n",
        "cv_scores = cross_val_score(best_model, X, y, cv=5, scoring='accuracy')\n",
        "print(f\"Final Cross-Validation Accuracy: {cv_scores.mean():.4f}\")\n",
        "\n",
        "# Save the trained Decision Tree model\n",
        "model_file = model_path + 'decision_tree_model.pkl'\n",
        "joblib.dump(best_model, model_file)\n",
        "\n",
        "# Save a summary of the model results\n",
        "summary = pd.DataFrame({\n",
        "    \"Best Params\": [str(best_params)],\n",
        "    \"Test Accuracy\": [accuracy],\n",
        "    \"CV Mean\": [cv_scores.mean()],\n",
        "    \"CV Std\": [cv_scores.std()]\n",
        "})\n",
        "summary_file = results_path + \"dt_results_summary.csv\"\n",
        "summary.to_csv(summary_file, index=False)"
      ],
      "metadata": {
        "colab": {
          "base_uri": "https://localhost:8080/"
        },
        "id": "jl1qNAZNAAHc",
        "outputId": "3dd91faa-bf62-4fd2-ae47-8386b9e0852c"
      },
      "execution_count": 34,
      "outputs": [
        {
          "output_type": "stream",
          "name": "stdout",
          "text": [
            "Final Cross-Validation Accuracy: 0.7236\n"
          ]
        }
      ]
    }
  ]
}