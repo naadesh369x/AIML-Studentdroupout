{
  "cells": [
    {
      "cell_type": "code",
      "execution_count": 2,
      "metadata": {
        "colab": {
          "base_uri": "https://localhost:8080/"
        },
        "id": "8sFHKyw_abut",
        "outputId": "33d59c7a-9de9-4415-ce86-88a4d0fbe107"
      },
      "outputs": [
        {
          "output_type": "stream",
          "name": "stdout",
          "text": [
            "Mounted at /content/drive\n"
          ]
        }
      ],
      "source": [
        "# Import all necessary libraries\n",
        "import pandas as pd\n",
        "import numpy as np\n",
        "import matplotlib.pyplot as plt\n",
        "import seaborn as sns\n",
        "import os\n",
        "\n",
        "# sklearn stuff\n",
        "from sklearn.model_selection import train_test_split, GridSearchCV\n",
        "from sklearn.preprocessing import StandardScaler, LabelEncoder\n",
        "from sklearn.svm import SVC\n",
        "from sklearn.linear_model import LogisticRegression\n",
        "from sklearn.tree import DecisionTreeClassifier\n",
        "from sklearn.neural_network import MLPClassifier\n",
        "from sklearn.cluster import KMeans\n",
        "from sklearn.metrics import accuracy_score, confusion_matrix\n",
        "from sklearn.decomposition import PCA\n",
        "from scipy.optimize import linear_sum_assignment\n",
        "\n",
        "# Google Drive for Colab\n",
        "from google.colab import drive\n",
        "\n",
        "# Mount drive so we can access files\n",
        "drive.mount('/content/drive')\n"
      ]
    },
    {
      "cell_type": "code",
      "execution_count": 3,
      "metadata": {
        "colab": {
          "base_uri": "https://localhost:8080/"
        },
        "id": "HBUqkJVwabuv",
        "outputId": "ac0b2f5e-ba51-409e-8d3f-614b83ca69fb"
      },
      "outputs": [
        {
          "output_type": "stream",
          "name": "stdout",
          "text": [
            "Dataset loaded: (6295, 11)\n"
          ]
        }
      ],
      "source": [
        "# Load the dataset\n",
        "\n",
        "# Path to the CSV file\n",
        "final_path = '/content/drive/My Drive/results/final_preprocessed_dataset.csv'\n",
        "\n",
        "# Read the CSV into a dataframe\n",
        "final_df = pd.read_csv(final_path)\n",
        "print(\"Dataset loaded:\", final_df.shape)\n",
        "\n",
        "# Make sure we have a folder to save results\n",
        "os.makedirs('/content/drive/My Drive/results/', exist_ok=True)\n",
        "\n",
        "# Define the class names (just for plotting later)\n",
        "class_labels = ['Dropout', 'Graduate', 'Enrolled']\n"
      ]
    },
    {
      "cell_type": "code",
      "execution_count": 4,
      "metadata": {
        "colab": {
          "base_uri": "https://localhost:8080/"
        },
        "id": "wN8iUQEgabuw",
        "outputId": "6f5b65fb-a1af-48e3-e3ac-a27b3ed7039d"
      },
      "outputs": [
        {
          "output_type": "stream",
          "name": "stdout",
          "text": [
            "Train set: (5036, 10) Test set: (1259, 10)\n"
          ]
        }
      ],
      "source": [
        "# Split data into train and test\n",
        "\n",
        "# Features and target\n",
        "X = final_df.drop(columns=['Target'])\n",
        "y = final_df['Target']\n",
        "\n",
        "# Split 80% train, 20% test\n",
        "X_train, X_test, y_train, y_test = train_test_split(\n",
        "    X, y, test_size=0.2, random_state=42, stratify=y\n",
        ")\n",
        "\n",
        "print(\"Train set:\", X_train.shape, \"Test set:\", X_test.shape)\n",
        "\n",
        "# Scale features for models like SVM, Logistic Regression, MLP\n",
        "scaler = StandardScaler()\n",
        "X_train_scaled = scaler.fit_transform(X_train)\n",
        "X_test_scaled = scaler.transform(X_test)"
      ]
    },
    {
      "cell_type": "code",
      "execution_count": 5,
      "metadata": {
        "colab": {
          "base_uri": "https://localhost:8080/"
        },
        "id": "5SK-l2Guabuw",
        "outputId": "5d4ddc4a-d7de-4f03-f407-f1a6c7fb64d8"
      },
      "outputs": [
        {
          "output_type": "stream",
          "name": "stdout",
          "text": [
            "Fitting 5 folds for each of 18 candidates, totalling 90 fits\n",
            "SVM Accuracy: 0.7768\n"
          ]
        }
      ],
      "source": [
        "# SVM model\n",
        "# Create SVM model\n",
        "svm_model = SVC(random_state=42)\n",
        "\n",
        "# Hyperparameter grid\n",
        "param_grid_svm = {'C':[0.1,1,10], 'kernel':['linear','rbf','poly'], 'gamma':['scale','auto']}\n",
        "\n",
        "# Grid search to find best parameters\n",
        "grid_svm = GridSearchCV(svm_model, param_grid_svm, cv=5, scoring='accuracy', n_jobs=-1, verbose=2)\n",
        "grid_svm.fit(X_train_scaled, y_train)\n",
        "\n",
        "# Best model\n",
        "best_svm = grid_svm.best_estimator_\n",
        "\n",
        "# Predict on test\n",
        "y_pred_svm = best_svm.predict(X_test_scaled)\n",
        "accuracy_svm = accuracy_score(y_test, y_pred_svm) # Assign accuracy to variable\n",
        "print(\"SVM Accuracy:\", round(accuracy_svm,4))\n",
        "\n",
        "# Confusion matrix plot\n",
        "cm_svm = confusion_matrix(y_test, y_pred_svm)\n",
        "plt.figure(figsize=(6,5))\n",
        "sns.heatmap(cm_svm, annot=True, fmt='d', cmap='Blues', xticklabels=class_labels, yticklabels=class_labels)\n",
        "plt.title('SVM Confusion Matrix')\n",
        "plt.xlabel('Predicted'); plt.ylabel('Actual')\n",
        "plt.tight_layout()\n",
        "plt.savefig('/content/drive/My Drive/results/svm_confusion_matrix.png')\n",
        "plt.close()"
      ]
    },
    {
      "cell_type": "code",
      "execution_count": 6,
      "metadata": {
        "colab": {
          "base_uri": "https://localhost:8080/"
        },
        "id": "TDFNG9_oabux",
        "outputId": "1e8b794a-1a40-4065-d90d-def5ee5695f7"
      },
      "outputs": [
        {
          "output_type": "stream",
          "name": "stdout",
          "text": [
            "Fitting 5 folds for each of 8 candidates, totalling 40 fits\n"
          ]
        },
        {
          "output_type": "stream",
          "name": "stderr",
          "text": [
            "/usr/local/lib/python3.12/dist-packages/sklearn/linear_model/_logistic.py:1247: FutureWarning: 'multi_class' was deprecated in version 1.5 and will be removed in 1.7. From then on, it will always use 'multinomial'. Leave it to its default value to avoid this warning.\n",
            "  warnings.warn(\n"
          ]
        },
        {
          "output_type": "stream",
          "name": "stdout",
          "text": [
            "LogReg Accuracy: 0.7585\n"
          ]
        }
      ],
      "source": [
        "# Logistic Regression model\n",
        "log_model = LogisticRegression(random_state=42, max_iter=1000, multi_class='multinomial')\n",
        "\n",
        "param_grid_log = {'C':[0.01,0.1,1,10], 'penalty':['l2'], 'solver':['lbfgs','saga']}\n",
        "grid_log = GridSearchCV(log_model, param_grid_log, cv=5, scoring='accuracy', n_jobs=-1, verbose=2)\n",
        "grid_log.fit(X_train_scaled, y_train)\n",
        "\n",
        "best_log = grid_log.best_estimator_\n",
        "y_pred_log = best_log.predict(X_test_scaled)\n",
        "accuracy_log = accuracy_score(y_test, y_pred_log) # Assign accuracy to variable\n",
        "print(\"LogReg Accuracy:\", round(accuracy_log,4))\n",
        "\n",
        "# Confusion matrix\n",
        "cm_log = confusion_matrix(y_test, y_pred_log)\n",
        "plt.figure(figsize=(6,5))\n",
        "sns.heatmap(cm_log, annot=True, fmt='d', cmap='Greens', xticklabels=class_labels, yticklabels=class_labels)\n",
        "plt.title('LogReg Confusion Matrix')\n",
        "plt.xlabel('Predicted'); plt.ylabel('Actual')\n",
        "plt.tight_layout()\n",
        "plt.savefig('/content/drive/My Drive/results/logreg_confusion_matrix.png')\n",
        "plt.close()"
      ]
    },
    {
      "cell_type": "code",
      "execution_count": 7,
      "metadata": {
        "id": "vZYcJLt7mxQ5",
        "colab": {
          "base_uri": "https://localhost:8080/"
        },
        "outputId": "25c043e4-f272-43ee-a6e2-45e99a3b8b0a"
      },
      "outputs": [
        {
          "output_type": "stream",
          "name": "stdout",
          "text": [
            "Fitting 5 folds for each of 12 candidates, totalling 60 fits\n",
            "Decision Tree Accuracy: 0.7347\n"
          ]
        }
      ],
      "source": [
        "# Decision Tree model\n",
        "\n",
        "dt_model = DecisionTreeClassifier(random_state=42)\n",
        "param_grid_dt = {'max_depth':[None,5,10,15], 'min_samples_split':[2,5,10]}\n",
        "grid_dt = GridSearchCV(dt_model, param_grid_dt, cv=5, scoring='accuracy', n_jobs=-1, verbose=2)\n",
        "grid_dt.fit(X_train, y_train)\n",
        "\n",
        "best_dt = grid_dt.best_estimator_\n",
        "y_pred_dt = best_dt.predict(X_test)\n",
        "accuracy_dt = accuracy_score(y_test, y_pred_dt) # Assign accuracy to variable\n",
        "print(\"Decision Tree Accuracy:\", round(accuracy_dt,4))\n",
        "\n",
        "# Confusion matrix\n",
        "cm_dt = confusion_matrix(y_test, y_pred_dt)\n",
        "plt.figure(figsize=(6,5))\n",
        "sns.heatmap(cm_dt, annot=True, fmt='d', cmap='Oranges', xticklabels=class_labels, yticklabels=class_labels)\n",
        "plt.title('Decision Tree Confusion Matrix')\n",
        "plt.xlabel('Predicted'); plt.ylabel('Actual')\n",
        "plt.tight_layout()\n",
        "plt.savefig('/content/drive/My Drive/results/dt_confusion_matrix.png')\n",
        "plt.close()"
      ]
    },
    {
      "cell_type": "code",
      "execution_count": 8,
      "metadata": {
        "colab": {
          "base_uri": "https://localhost:8080/"
        },
        "id": "KJwiqf5uabux",
        "outputId": "08fa6674-1bfb-4124-dc67-7eee9c79a195"
      },
      "outputs": [
        {
          "output_type": "stream",
          "name": "stdout",
          "text": [
            "Fitting 5 folds for each of 12 candidates, totalling 60 fits\n",
            "MLP Accuracy: 0.7824\n"
          ]
        }
      ],
      "source": [
        "# MLP (Neural Network) model\n",
        "\n",
        "mlp_model = MLPClassifier(random_state=42, max_iter=1000)\n",
        "param_grid_mlp = {'hidden_layer_sizes':[(50,), (100,), (50,50)], 'activation':['relu','tanh'], 'alpha':[0.0001,0.001]}\n",
        "grid_mlp = GridSearchCV(mlp_model, param_grid_mlp, cv=5, scoring='accuracy', n_jobs=-1, verbose=2)\n",
        "grid_mlp.fit(X_train_scaled, y_train)\n",
        "\n",
        "best_mlp = grid_mlp.best_estimator_\n",
        "y_pred_mlp = best_mlp.predict(X_test_scaled)\n",
        "accuracy_mlp = accuracy_score(y_test, y_pred_mlp) # Assign accuracy to variable\n",
        "print(\"MLP Accuracy:\", round(accuracy_mlp,4))\n",
        "\n",
        "# Confusion matrix\n",
        "cm_mlp = confusion_matrix(y_test, y_pred_mlp)\n",
        "plt.figure(figsize=(6,5))\n",
        "sns.heatmap(cm_mlp, annot=True, fmt='d', cmap='Purples', xticklabels=class_labels, yticklabels=class_labels)\n",
        "plt.title('MLP Confusion Matrix')\n",
        "plt.xlabel('Predicted'); plt.ylabel('Actual')\n",
        "plt.tight_layout()\n",
        "plt.savefig('/content/drive/My Drive/results/mlp_confusion_matrix.png')\n",
        "plt.close()"
      ]
    },
    {
      "cell_type": "code",
      "execution_count": 9,
      "metadata": {
        "colab": {
          "base_uri": "https://localhost:8080/"
        },
        "id": "4POVh_Ysabuy",
        "outputId": "46910217-c410-4345-e755-b40f094c7286"
      },
      "outputs": [
        {
          "output_type": "stream",
          "name": "stdout",
          "text": [
            "K-Means Accuracy: 0.4677\n"
          ]
        }
      ],
      "source": [
        "# K-Means clustering\n",
        "\n",
        "# Scale all features\n",
        "X_scaled_cluster = scaler.fit_transform(X)\n",
        "\n",
        "# Fit K-Means\n",
        "kmeans = KMeans(n_clusters=3, random_state=42, n_init=10)\n",
        "cluster_labels = kmeans.fit_predict(X_scaled_cluster)\n",
        "\n",
        "# Convert true labels to numbers\n",
        "le = LabelEncoder()\n",
        "y_true_encoded = le.fit_transform(y)\n",
        "\n",
        "# Build contingency table\n",
        "cont_matrix = np.zeros((3, len(np.unique(y_true_encoded))), int)\n",
        "for i in range(3):\n",
        "    for j in range(len(np.unique(y_true_encoded))):\n",
        "        cont_matrix[i,j] = np.sum((cluster_labels==i) & (y_true_encoded==j))\n",
        "\n",
        "# Match clusters to original labels\n",
        "row_ind, col_ind = linear_sum_assignment(-cont_matrix)\n",
        "cluster_to_label = dict(zip(row_ind, col_ind))\n",
        "y_pred_kmeans = np.array([cluster_to_label[c] for c in cluster_labels])\n",
        "\n",
        "accuracy_kmeans = accuracy_score(y_true_encoded, y_pred_kmeans) # Assign accuracy to variable\n",
        "print(\"K-Means Accuracy:\", round(accuracy_kmeans,4))"
      ]
    },
    {
      "cell_type": "code",
      "execution_count": 10,
      "metadata": {
        "colab": {
          "base_uri": "https://localhost:8080/"
        },
        "id": "5sC75ocmabuy",
        "outputId": "aa68beb2-4d8d-456f-9b04-af3a5cabef68"
      },
      "outputs": [
        {
          "output_type": "stream",
          "name": "stdout",
          "text": [
            "\n",
            "========== Random Forest ==========\n",
            "Fitting 5 folds for each of 48 candidates, totalling 240 fits\n",
            "Random Forest Test Accuracy: 0.7903\n"
          ]
        }
      ],
      "source": [
        "\n",
        "# Random Forest Classifier\n",
        "\n",
        "print(\"\\n========== Random Forest ==========\")\n",
        "from sklearn.ensemble import RandomForestClassifier\n",
        "rf_model = RandomForestClassifier(random_state=42)\n",
        "param_grid_rf = {\n",
        "    'n_estimators': [100, 200],\n",
        "    'max_depth': [10, 20, None],\n",
        "    'min_samples_split': [2, 5],\n",
        "    'min_samples_leaf': [1, 2],\n",
        "    'bootstrap': [True, False]\n",
        "}\n",
        "grid_rf = GridSearchCV(rf_model, param_grid_rf, cv=5, scoring='accuracy', n_jobs=-1, verbose=1)\n",
        "grid_rf.fit(X_train, y_train)\n",
        "best_rf = grid_rf.best_estimator_\n",
        "y_pred_rf = best_rf.predict(X_test)\n",
        "accuracy_rf = accuracy_score(y_test, y_pred_rf)\n",
        "print(\"Random Forest Test Accuracy:\", round(accuracy_rf,4))"
      ]
    },
    {
      "cell_type": "code",
      "source": [
        "cm_rf = confusion_matrix(y_test, y_pred_rf)\n",
        "plt.figure(figsize=(6,5))\n",
        "sns.heatmap(cm_rf, annot=True, fmt='d', cmap='Reds', xticklabels=class_labels, yticklabels=class_labels)\n",
        "plt.title('Random Forest Confusion Matrix')\n",
        "plt.xlabel('Predicted')\n",
        "plt.ylabel('Actual')\n",
        "plt.tight_layout()\n",
        "plt.savefig('/content/drive/My Drive/results/rf_confusion_matrix.png')\n",
        "plt.close()\n",
        "\n",
        "# -----------------------------------------\n",
        "# Print Final Accuracy Summary\n",
        "# -----------------------------------------\n",
        "print(\"\\n========== Accuracy Comparison ==========\")\n",
        "print(f\"SVM Accuracy: {accuracy_svm:.4f}\")\n",
        "print(f\"Logistic Regression Accuracy: {accuracy_log:.4f}\")\n",
        "print(f\"Decision Tree Accuracy: {accuracy_dt:.4f}\")\n",
        "print(f\"MLP Accuracy: {accuracy_mlp:.4f}\")\n",
        "print(f\"Random Forest Accuracy: {accuracy_rf:.4f}\")\n",
        "print(f\"K-Means (approx.) Accuracy: {accuracy_kmeans:.4f}\")"
      ],
      "metadata": {
        "colab": {
          "base_uri": "https://localhost:8080/"
        },
        "id": "yzYKa5iAw_Jn",
        "outputId": "ce7abfdf-dd4f-470d-8034-9273052f2c2f"
      },
      "execution_count": 11,
      "outputs": [
        {
          "output_type": "stream",
          "name": "stdout",
          "text": [
            "\n",
            "========== Accuracy Comparison ==========\n",
            "SVM Accuracy: 0.7768\n",
            "Logistic Regression Accuracy: 0.7585\n",
            "Decision Tree Accuracy: 0.7347\n",
            "MLP Accuracy: 0.7824\n",
            "Random Forest Accuracy: 0.7903\n",
            "K-Means (approx.) Accuracy: 0.4677\n"
          ]
        }
      ]
    },
    {
      "cell_type": "code",
      "execution_count": 12,
      "metadata": {
        "colab": {
          "base_uri": "https://localhost:8080/",
          "height": 519
        },
        "id": "QeJzq357abuz",
        "outputId": "189d0aec-5dba-4646-9559-7f6f5e34de7c"
      },
      "outputs": [
        {
          "output_type": "display_data",
          "data": {
            "text/plain": [
              "<Figure size 1000x600 with 1 Axes>"
            ],
            "image/png": "[encoded data removed]"
          },
          "metadata": {}
        },
        {
          "output_type": "display_data",
          "data": {
            "text/plain": [
              "<Figure size 640x480 with 0 Axes>"
            ]
          },
          "metadata": {}
        }
      ],
      "source": [
        "import matplotlib.pyplot as plt\n",
        "import os\n",
        "\n",
        "# --- Define your model accuracies here ---\n",
        "# NOTE: The original code used variables that were not defined.\n",
        "# I have added placeholder values for the other models.\n",
        "# Please replace these with your actual accuracy values.\n",
        "# Using variables from notebook state\n",
        "# accuracy_svm = 0.7768\n",
        "# accuracy_log = 0.7585\n",
        "# accuracy_dt = 0.7347\n",
        "# accuracy_mlp = 0.7824\n",
        "# accuracy_kmeans = 0.4677\n",
        "# accuracy_rf = 0.7903\n",
        "     # <-- Random Forest accuracy set as requested\n",
        "\n",
        "# List of models and their test accuracies\n",
        "models = ['SVM', 'Logistic Regression', 'Decision Tree', 'MLP', 'K-Means', 'Random Forest']\n",
        "accuracies = [accuracy_svm, accuracy_log, accuracy_dt, accuracy_mlp, accuracy_kmeans, accuracy_rf]\n",
        "\n",
        "# Create bar chart to compare models\n",
        "plt.figure(figsize=(10,6))\n",
        "bars = plt.bar(models, accuracies, color=['blue','green','orange','purple','red','cyan'])\n",
        "plt.ylim(0,1)\n",
        "plt.ylabel('Accuracy')\n",
        "plt.title('Comparison of Optimum Model Accuracy')\n",
        "plt.xticks(rotation=30)\n",
        "\n",
        "# Add accuracy values on top of each bar\n",
        "for bar in bars:\n",
        "    height = bar.get_height()\n",
        "    plt.text(bar.get_x() + bar.get_width()/2, height + 0.02, f'{height:.2f}', ha='center', va='bottom', fontsize=10)\n",
        "\n",
        "plt.tight_layout()\n",
        "plt.show()\n",
        "\n",
        "# Optional: save the figure\n",
        "# Note: This path is specific to Google Colab. Make sure the directory exists.\n",
        "save_path = '/content/drive/MyDrive/results/'\n",
        "os.makedirs(save_path, exist_ok=True) # Create the directory if it doesn't exist\n",
        "plt.savefig(save_path + 'model_accuracy_comparison.png')"
      ]
    }
  ],
  "metadata": {
    "accelerator": "TPU",
    "colab": {
      "gpuType": "V5E1",
      "provenance": []
    },
    "kernelspec": {
      "display_name": "Python 3 (ipykernel)",
      "language": "python",
      "name": "python3"
    },
    "language_info": {
      "codemirror_mode": {
        "name": "ipython",
        "version": 3
      },
      "file_extension": ".py",
      "mimetype": "text/x-python",
      "name": "python",
      "nbconvert_exporter": "python",
      "pygments_lexer": "ipython3",
      "version": "3.13.5"
    }
  },
  "nbformat": 4,
  "nbformat_minor": 0
}